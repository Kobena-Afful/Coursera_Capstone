{
    "nbformat_minor": 1, 
    "cells": [
        {
            "source": "# Introduction/Business Problem", 
            "cell_type": "markdown", 
            "metadata": {
                "collapsed": true
            }
        }, 
        {
            "source": "The United States of America is a country established by an immigrant majority. Every year a number of immigrants become new U.S citizens. For example, in the 2018 fiscal year 163,000 immigrants became new citizens. The U.S also runs a Diversity lottery visa program that officially brings immigrants into the country to fill needed specific job categories where skills sets are lacking in the current population. The diversity visa program makes available 50,000 immigrant visas every year across the globe. To diversify the immigrant population, this program selects applicants from countries with low numbers of immigrants in the previous five years. Some of these immigrants migrate to the U.S without having relatives that they can associate with. The primary source of acclimating to the new environment is to find communities that have immigrants of a similar background or at the very least find a diverse community that is most likely to be tolerant of new immigrants. \n\nThe goal of this project is develop an analysis that compares neighborhoods in different U.S cities to identify those with a cultural composition that will be attractive to a specific group of immigrants with a similar cultural background. New immigrants may then use this to assist in their choice of where to live as they move into a new life.\n", 
            "cell_type": "markdown", 
            "metadata": {}
        }, 
        {
            "source": "# Data ", 
            "cell_type": "markdown", 
            "metadata": {}
        }, 
        {
            "source": "We make the assumption that neighborhoods with specific cultural diversity will have a lot more cuisine catered to that cultural background. Additionally, we will expect specialty grocery shops that cater to these specific cultural backgrounds. The more culturally diverse a neighborhood, the more diverse restaurants and grocery shops there will be. Neighborhoods with a predominant cultural background will feature cuisines and grocery from said background. The data to be used for this project will be Foursquare location data to identify clusters of restaurants and grocery shops in specific neighborhoods.For the purposes of this project we will use neighborhoods in Des Moines, Iowa, Baltimore, Maryland and Washington DC. We will select neighborhoods from these regions by pulling data from the following websites:\n\nDes Moines, Iowa: https://www.areavibes.com/des+moines-ia/neighborhoods/\n\nBaltimore, Maryland: https://en.wikipedia.org/wiki/List_of_Baltimore_neighborhoods\n\nWashington, DC: https://en.wikipedia.org/wiki/Neighborhoods_in_Washington,_D.C.\n\nTo make the data more manageable, we will select 20 neighborhoods from each of these cities to compare. We will use the python geocoder to request the geographic coordinates for these neighborhoods. It is our experience from the previous assignment that sometimes the geocoder does not return any results. If that happens again, we will have to find different ways of obtaining the geographic coordinates (e.g. finding it on other websites such as Wikipedia). \n", 
            "cell_type": "markdown", 
            "metadata": {}
        }, 
        {
            "execution_count": null, 
            "cell_type": "code", 
            "metadata": {}, 
            "outputs": [], 
            "source": ""
        }
    ], 
    "metadata": {
        "kernelspec": {
            "display_name": "Python 3.5", 
            "name": "python3", 
            "language": "python"
        }, 
        "language_info": {
            "mimetype": "text/x-python", 
            "nbconvert_exporter": "python", 
            "version": "3.5.5", 
            "name": "python", 
            "file_extension": ".py", 
            "pygments_lexer": "ipython3", 
            "codemirror_mode": {
                "version": 3, 
                "name": "ipython"
            }
        }
    }, 
    "nbformat": 4
}